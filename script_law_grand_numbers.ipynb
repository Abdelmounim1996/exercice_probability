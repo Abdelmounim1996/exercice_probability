{
  "cells": [
    {
      "cell_type": "markdown",
      "metadata": {
        "id": "view-in-github",
        "colab_type": "text"
      },
      "source": [
        "<a href=\"https://colab.research.google.com/github/Abdelmounim1996/exercice_probability/blob/main/script_law_grand_numbers.ipynb\" target=\"_parent\"><img src=\"https://colab.research.google.com/assets/colab-badge.svg\" alt=\"Open In Colab\"/></a>"
      ]
    },
    {
      "cell_type": "code",
      "execution_count": 57,
      "metadata": {
        "id": "bOKrggql3gwN"
      },
      "outputs": [],
      "source": [
        "import numpy as np\n",
        "def  Genrator_face(n):\n",
        "  face = np.random.randint(low = 1 , high=7 , size= n)\n",
        "  face ,  frequency = np.unique(face , return_counts=True)\n",
        "  return face , frequency"
      ]
    },
    {
      "cell_type": "code",
      "execution_count": 79,
      "metadata": {
        "colab": {
          "base_uri": "https://localhost:8080/",
          "height": 618
        },
        "id": "HqSYFzU_C9Rk",
        "outputId": "65cd5881-9267-4162-b0e0-2cd37a04e083"
      },
      "outputs": [
        {
          "output_type": "display_data",
          "data": {
            "text/plain": [
              "<Figure size 648x648 with 9 Axes>"
            ],
            "image/png": "[encoded data removed]"
          },
          "metadata": {
            "needs_background": "light"
          }
        }
      ],
      "source": [
        "import matplotlib.pyplot as plt\n",
        "n_cols = 3\n",
        "n_rows = 3\n",
        "n=6\n",
        "fig, axs = plt.subplots(n_cols, n_rows, figsize=(9, 9), sharey=True)\n",
        "for i in range(n_cols):\n",
        "  for j in range(n_rows ) :\n",
        "    n= (j+1)*n\n",
        "    face, frequency = Genrator_face(n)\n",
        "    axs[i, j].bar(face, frequency)\n",
        "    axs[i,j].set_title('n=%i' %n)\n",
        "    fig.suptitle('Frequency')\n",
        "    plt.subplots_adjust(left=0.125,\n",
        "                    bottom=0.1, \n",
        "                    right=0.9, \n",
        "                    top=0.9, \n",
        "                    wspace=0.2, \n",
        "                    hspace=0.35)\n"
      ]
    },
    {
      "cell_type": "code",
      "execution_count": null,
      "metadata": {
        "id": "ap-U2YLRCQse"
      },
      "outputs": [],
      "source": [
        ""
      ]
    },
    {
      "cell_type": "code",
      "execution_count": null,
      "metadata": {
        "id": "KOjzMCEyCQvl"
      },
      "outputs": [],
      "source": [
        ""
      ]
    }
  ],
  "metadata": {
    "colab": {
      "collapsed_sections": [],
      "name": "script_law_grand_numbers.ipynb",
      "provenance": [],
      "authorship_tag": "ABX9TyP0Xb1mRUAo0dNSWaNcpiQe",
      "include_colab_link": true
    },
    "kernelspec": {
      "display_name": "Python 3",
      "name": "python3"
    },
    "language_info": {
      "name": "python"
    }
  },
  "nbformat": 4,
  "nbformat_minor": 0
}